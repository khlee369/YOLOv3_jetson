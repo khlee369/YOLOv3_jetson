{
 "cells": [
  {
   "cell_type": "markdown",
   "metadata": {},
   "source": [
    "# Import"
   ]
  },
  {
   "cell_type": "code",
   "execution_count": 1,
   "metadata": {
    "ExecuteTime": {
     "end_time": "2020-12-21T01:40:20.163993Z",
     "start_time": "2020-12-21T01:40:19.551841Z"
    }
   },
   "outputs": [],
   "source": [
    "from __future__ import division\n",
    "\n",
    "from models import *\n",
    "from utils.utils import *\n",
    "from utils.datasets import *\n",
    "\n",
    "import os\n",
    "import sys\n",
    "import time\n",
    "import datetime\n",
    "import argparse\n",
    "import cv2\n",
    "\n",
    "from PIL import Image\n",
    "\n",
    "import torch\n",
    "from torch.utils.data import DataLoader\n",
    "from torchvision import datasets\n",
    "from torch.autograd import Variable\n",
    "import torchvision.transforms as transforms\n",
    "\n",
    "import matplotlib.pyplot as plt\n",
    "import matplotlib.patches as patches\n",
    "from matplotlib.ticker import NullLocator\n"
   ]
  },
  {
   "cell_type": "markdown",
   "metadata": {},
   "source": [
    "# Arg Parse"
   ]
  },
  {
   "cell_type": "code",
   "execution_count": 2,
   "metadata": {
    "ExecuteTime": {
     "end_time": "2020-12-21T01:40:20.168991Z",
     "start_time": "2020-12-21T01:40:20.164992Z"
    }
   },
   "outputs": [],
   "source": [
    "class opt:\n",
    "    image_folder = \"data/samples\"\n",
    "    model_def = \"config/yolov3.cfg\"\n",
    "    weights_path = \"weights/yolov3.weights\"\n",
    "    class_path = \"data/coco.names\"\n",
    "    conf_thres = 0.8\n",
    "    nms_thres = 0.4\n",
    "    batch_size = 1\n",
    "    n_cpu = 0\n",
    "    img_size = 416\n",
    "    checkpoint_model= str()"
   ]
  },
  {
   "cell_type": "code",
   "execution_count": 3,
   "metadata": {
    "ExecuteTime": {
     "end_time": "2020-12-21T01:40:20.175992Z",
     "start_time": "2020-12-21T01:40:20.169994Z"
    }
   },
   "outputs": [],
   "source": [
    "def plot_one_box(x, img, color=1, label=None, line_thickness=None):\n",
    "    # Plots one bounding box on image img\n",
    "    tl = line_thickness or round(0.002 * (img.shape[0] + img.shape[1]) / 2) + 1  # line/font thickness\n",
    "    color = color or [random.randint(0, 255) for _ in range(3)]\n",
    "    c1, c2 = (int(x[0]), int(x[1])), (int(x[2]), int(x[3]))\n",
    "    cv2.rectangle(img, c1, c2, color, thickness=tl, lineType=cv2.LINE_AA)\n",
    "    if label:\n",
    "        tf = max(tl - 1, 1)  # font thickness\n",
    "        t_size = cv2.getTextSize(label, 0, fontScale=tl / 3, thickness=tf)[0]\n",
    "        c2 = c1[0] + t_size[0], c1[1] - t_size[1] - 3\n",
    "        cv2.rectangle(img, c1, c2, color, -1, cv2.LINE_AA)  # filled\n",
    "        cv2.putText(img, label, (c1[0], c1[1] - 2), 0, tl / 3, [225, 255, 255], thickness=tf, lineType=cv2.LINE_AA)"
   ]
  },
  {
   "cell_type": "code",
   "execution_count": 4,
   "metadata": {
    "ExecuteTime": {
     "end_time": "2020-12-21T01:40:20.179992Z",
     "start_time": "2020-12-21T01:40:20.176993Z"
    }
   },
   "outputs": [],
   "source": [
    "def figure_to_array(fig):\n",
    "    \"\"\"\n",
    "    plt.figure를 RGBA로 변환(layer가 4개)\n",
    "    shape: height, width, layer\n",
    "    \"\"\"\n",
    "    fig.canvas.draw()\n",
    "    return np.array(fig.canvas.renderer._renderer)"
   ]
  },
  {
   "cell_type": "markdown",
   "metadata": {},
   "source": [
    "# Model Load"
   ]
  },
  {
   "cell_type": "code",
   "execution_count": 5,
   "metadata": {
    "ExecuteTime": {
     "end_time": "2020-12-21T01:40:21.793454Z",
     "start_time": "2020-12-21T01:40:20.180991Z"
    }
   },
   "outputs": [],
   "source": [
    "device = torch.device(\"cuda\" if torch.cuda.is_available() else \"cpu\")\n",
    "\n",
    "os.makedirs(\"output\", exist_ok=True)\n",
    "\n",
    "# Set up model\n",
    "model = Darknet(opt.model_def, img_size=opt.img_size).to(device)\n",
    "\n",
    "if opt.weights_path.endswith(\".weights\"):\n",
    "    # Load darknet weights\n",
    "    model.load_darknet_weights(opt.weights_path)\n",
    "else:\n",
    "    # Load checkpoint weights\n",
    "    model.load_state_dict(torch.load(opt.weights_path))\n",
    "\n",
    "model.eval()  # Set in evaluation mode\n",
    "\n",
    "dataloader = DataLoader(\n",
    "    ImageFolder(opt.image_folder, img_size=opt.img_size),\n",
    "    batch_size=opt.batch_size,\n",
    "    shuffle=False,\n",
    "    num_workers=opt.n_cpu,\n",
    ")\n",
    "\n",
    "classes = load_classes(opt.class_path)  # Extracts class labels from file\n",
    "\n",
    "Tensor = torch.cuda.FloatTensor if torch.cuda.is_available() else torch.FloatTensor\n",
    "\n",
    "imgs = []  # Stores image paths\n",
    "img_detections = []  # Stores detections for each image index"
   ]
  },
  {
   "cell_type": "markdown",
   "metadata": {},
   "source": [
    "# Webcam Define"
   ]
  },
  {
   "cell_type": "code",
   "execution_count": 6,
   "metadata": {
    "ExecuteTime": {
     "end_time": "2020-12-21T01:40:24.400678Z",
     "start_time": "2020-12-21T01:40:21.794427Z"
    }
   },
   "outputs": [
    {
     "data": {
      "text/plain": [
       "True"
      ]
     },
     "execution_count": 6,
     "metadata": {},
     "output_type": "execute_result"
    }
   ],
   "source": [
    "width = 1280\n",
    "height = 720\n",
    "\n",
    "cam = cv2.VideoCapture(0)\n",
    "cam.set(3, width)\n",
    "cam.set(4, height)"
   ]
  },
  {
   "cell_type": "markdown",
   "metadata": {},
   "source": [
    "# Webcam"
   ]
  },
  {
   "cell_type": "code",
   "execution_count": 7,
   "metadata": {
    "ExecuteTime": {
     "end_time": "2020-12-21T01:40:29.210574Z",
     "start_time": "2020-12-21T01:40:24.401678Z"
    },
    "scrolled": true
   },
   "outputs": [
    {
     "name": "stdout",
     "output_type": "stream",
     "text": [
      "FPS of the video is  0.88\n",
      "tensor([[2.0130e+02, 9.5617e+00, 9.7671e+02, 1.0013e+03, 9.9995e-01, 9.9999e-01,\n",
      "         0.0000e+00]])\n",
      "FPS of the video is 26.23\n",
      "tensor([[1.9483e+02, 1.3072e+01, 9.8311e+02, 1.0013e+03, 9.9997e-01, 9.9999e-01,\n",
      "         0.0000e+00]])\n",
      "FPS of the video is 26.23\n",
      "tensor([[1.9792e+02, 5.5729e+00, 9.7991e+02, 1.0052e+03, 9.9997e-01, 1.0000e+00,\n",
      "         0.0000e+00]])\n",
      "FPS of the video is 28.00\n",
      "tensor([[195.0711,   6.8100, 982.2660, 995.7333,   1.0000,   1.0000,   0.0000]])\n"
     ]
    }
   ],
   "source": [
    "frames = 0\n",
    "start = time.time()\n",
    "\n",
    "# ret_val, img = cam.read()\n",
    "# img_size = img.shape[:2]\n",
    "\n",
    "while True:\n",
    "    ret_val, img = cam.read()\n",
    "    # img = cv2.cvtColor(img, cv2.COLOR_BGR2RGB)\n",
    "    # Mirror \n",
    "    img = cv2.flip(img, 1)\n",
    "    img_re = cv2.resize(img, (416, 416))\n",
    "    \n",
    "    input_imgs = transforms.ToTensor()(img_re)\n",
    "    input_imgs = torch.unsqueeze(input_imgs, 0).to(device)\n",
    "\n",
    "    # Get detections\n",
    "    with torch.no_grad():\n",
    "        detections = model(input_imgs)\n",
    "        detections = non_max_suppression(detections, opt.conf_thres, opt.nms_thres)\n",
    "        img_detections.extend(detections)\n",
    "    \n",
    "    # Create plot\n",
    "    # Draw bounding boxes and labels of detections\n",
    "    if detections[0] is not None:\n",
    "        # Rescale boxes to original image\n",
    "        detections = rescale_boxes(detections[0], opt.img_size, img.shape[:2])\n",
    "\n",
    "        for x1, y1, x2, y2, conf, cls_conf, cls_pred in detections:\n",
    "            plot_one_box((x1,y1,x2,y2), img, label=classes[int(cls_pred)])\n",
    "    \n",
    "    frames += 1\n",
    "    intv = time.time() - start\n",
    "    if intv > 1:\n",
    "        print(\"FPS of the video is {:5.2f}\".format( frames / intv ))\n",
    "        print(detections)\n",
    "        start = time.time()\n",
    "        frames = 0\n",
    "    \n",
    "    cv2.imshow('Demo webcam', img)\n",
    "    if cv2.waitKey(1) == 27: \n",
    "        break  # esc to quit\n",
    "        \n",
    "cam.release()\n",
    "cv2.destroyAllWindows()"
   ]
  },
  {
   "cell_type": "code",
   "execution_count": 8,
   "metadata": {
    "ExecuteTime": {
     "end_time": "2020-12-21T01:40:29.214575Z",
     "start_time": "2020-12-21T01:40:29.212573Z"
    }
   },
   "outputs": [],
   "source": [
    "a = torch.randn(1,3,3)"
   ]
  },
  {
   "cell_type": "code",
   "execution_count": 9,
   "metadata": {
    "ExecuteTime": {
     "end_time": "2020-12-21T01:40:29.226574Z",
     "start_time": "2020-12-21T01:40:29.216575Z"
    }
   },
   "outputs": [
    {
     "data": {
      "text/plain": [
       "tensor([[[ 0.8709, -0.1880,  0.1231],\n",
       "         [ 0.6284, -2.1396, -1.1165],\n",
       "         [ 1.4593,  1.0371,  1.1313]]], device='cuda:0')"
      ]
     },
     "execution_count": 9,
     "metadata": {},
     "output_type": "execute_result"
    }
   ],
   "source": [
    "a.to('cuda')"
   ]
  },
  {
   "cell_type": "code",
   "execution_count": null,
   "metadata": {},
   "outputs": [],
   "source": []
  }
 ],
 "metadata": {
  "kernelspec": {
   "display_name": "Python 3",
   "language": "python",
   "name": "python3"
  },
  "language_info": {
   "codemirror_mode": {
    "name": "ipython",
    "version": 3
   },
   "file_extension": ".py",
   "mimetype": "text/x-python",
   "name": "python",
   "nbconvert_exporter": "python",
   "pygments_lexer": "ipython3",
   "version": "3.7.9"
  },
  "toc": {
   "base_numbering": 1,
   "nav_menu": {},
   "number_sections": true,
   "sideBar": true,
   "skip_h1_title": false,
   "title_cell": "Table of Contents",
   "title_sidebar": "Contents",
   "toc_cell": false,
   "toc_position": {},
   "toc_section_display": true,
   "toc_window_display": false
  },
  "varInspector": {
   "cols": {
    "lenName": 16,
    "lenType": 16,
    "lenVar": 40
   },
   "kernels_config": {
    "python": {
     "delete_cmd_postfix": "",
     "delete_cmd_prefix": "del ",
     "library": "var_list.py",
     "varRefreshCmd": "print(var_dic_list())"
    },
    "r": {
     "delete_cmd_postfix": ") ",
     "delete_cmd_prefix": "rm(",
     "library": "var_list.r",
     "varRefreshCmd": "cat(var_dic_list()) "
    }
   },
   "types_to_exclude": [
    "module",
    "function",
    "builtin_function_or_method",
    "instance",
    "_Feature"
   ],
   "window_display": false
  }
 },
 "nbformat": 4,
 "nbformat_minor": 4
}
