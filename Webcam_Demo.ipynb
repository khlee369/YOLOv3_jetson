{
 "cells": [
  {
   "cell_type": "code",
   "execution_count": null,
   "metadata": {
    "ExecuteTime": {
     "end_time": "2020-12-18T02:57:54.666802Z",
     "start_time": "2020-12-18T02:57:54.654785Z"
    }
   },
   "outputs": [],
   "source": [
    "import cv2\n",
    "import time"
   ]
  },
  {
   "cell_type": "markdown",
   "metadata": {},
   "source": [
    "# Webcam Demo"
   ]
  },
  {
   "cell_type": "code",
   "execution_count": null,
   "metadata": {
    "ExecuteTime": {
     "end_time": "2020-12-18T02:57:56.959017Z",
     "start_time": "2020-12-18T02:57:55.028739Z"
    }
   },
   "outputs": [],
   "source": [
    "width = 416\n",
    "height = 416\n",
    "\n",
    "\n",
    "cam = cv2.VideoCapture(0)\n",
    "cam.set(3, width)\n",
    "cam.set(4, height)"
   ]
  },
  {
   "cell_type": "code",
   "execution_count": null,
   "metadata": {
    "ExecuteTime": {
     "end_time": "2020-12-17T09:48:54.860635Z",
     "start_time": "2020-12-17T09:48:50.774728Z"
    },
    "scrolled": false
   },
   "outputs": [],
   "source": [
    "frames = 0\n",
    "start = time.time()\n",
    "while True:\n",
    "    # Get webcam input\n",
    "    ret_val, img = cam.read()\n",
    "    print(type(img))\n",
    "    print(img.shape)\n",
    "\n",
    "#     # Mirror \n",
    "    img = cv2.flip(img, 1)\n",
    "\n",
    "#     # Free-up unneeded cuda memory\n",
    "#     torch.cuda.empty_cache()\n",
    "\n",
    "#     # Generate image\n",
    "#     content_tensor = utils.itot(img).to(device)\n",
    "#     generated_tensor = net(content_tensor)\n",
    "#     generated_image = utils.ttoi(generated_tensor.detach())\n",
    "#     if (PRESERVE_COLOR):\n",
    "#         generated_image = utils.transfer_color(img, generated_image)\n",
    "\n",
    "#     generated_image = generated_image / 255\n",
    "\n",
    "    # Show webcam\n",
    "    frames += 1\n",
    "    print(\"FPS of the video is {:5.2f}\".format( frames / (time.time() - start)))\n",
    "    cv2.imshow('Demo webcam', img)\n",
    "    if cv2.waitKey(1) == 27: \n",
    "        break  # esc to quit\n",
    "cam.release()\n",
    "cv2.destroyAllWindows()"
   ]
  },
  {
   "cell_type": "code",
   "execution_count": null,
   "metadata": {
    "ExecuteTime": {
     "end_time": "2020-12-18T02:59:05.600994Z",
     "start_time": "2020-12-18T02:59:05.340628Z"
    }
   },
   "outputs": [],
   "source": [
    "cam.release()\n",
    "cv2.destroyAllWindows()"
   ]
  }
 ],
 "metadata": {
  "kernelspec": {
   "display_name": "Python 3",
   "language": "python",
   "name": "python3"
  },
  "language_info": {
   "codemirror_mode": {
    "name": "ipython",
    "version": 3
   },
   "file_extension": ".py",
   "mimetype": "text/x-python",
   "name": "python",
   "nbconvert_exporter": "python",
   "pygments_lexer": "ipython3",
   "version": "3.7.9"
  },
  "toc": {
   "base_numbering": 1,
   "nav_menu": {},
   "number_sections": true,
   "sideBar": true,
   "skip_h1_title": false,
   "title_cell": "Table of Contents",
   "title_sidebar": "Contents",
   "toc_cell": false,
   "toc_position": {},
   "toc_section_display": true,
   "toc_window_display": false
  },
  "varInspector": {
   "cols": {
    "lenName": 16,
    "lenType": 16,
    "lenVar": 40
   },
   "kernels_config": {
    "python": {
     "delete_cmd_postfix": "",
     "delete_cmd_prefix": "del ",
     "library": "var_list.py",
     "varRefreshCmd": "print(var_dic_list())"
    },
    "r": {
     "delete_cmd_postfix": ") ",
     "delete_cmd_prefix": "rm(",
     "library": "var_list.r",
     "varRefreshCmd": "cat(var_dic_list()) "
    }
   },
   "types_to_exclude": [
    "module",
    "function",
    "builtin_function_or_method",
    "instance",
    "_Feature"
   ],
   "window_display": false
  }
 },
 "nbformat": 4,
 "nbformat_minor": 4
}
