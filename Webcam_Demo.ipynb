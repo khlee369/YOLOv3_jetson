{
 "cells": [
  {
   "cell_type": "code",
   "execution_count": 1,
   "metadata": {
    "ExecuteTime": {
     "end_time": "2020-12-21T01:33:41.550295Z",
     "start_time": "2020-12-21T01:33:41.536286Z"
    }
   },
   "outputs": [],
   "source": [
    "import cv2\n",
    "import time"
   ]
  },
  {
   "cell_type": "markdown",
   "metadata": {},
   "source": [
    "# Webcam Demo"
   ]
  },
  {
   "cell_type": "code",
   "execution_count": 2,
   "metadata": {
    "ExecuteTime": {
     "end_time": "2020-12-21T01:33:43.879000Z",
     "start_time": "2020-12-21T01:33:42.005688Z"
    }
   },
   "outputs": [
    {
     "data": {
      "text/plain": [
       "True"
      ]
     },
     "execution_count": 2,
     "metadata": {},
     "output_type": "execute_result"
    }
   ],
   "source": [
    "width = 416\n",
    "height = 416\n",
    "\n",
    "\n",
    "cam = cv2.VideoCapture(0)\n",
    "cam.set(3, width)\n",
    "cam.set(4, height)"
   ]
  },
  {
   "cell_type": "code",
   "execution_count": 3,
   "metadata": {
    "ExecuteTime": {
     "end_time": "2020-12-21T01:33:58.947962Z",
     "start_time": "2020-12-21T01:33:43.901001Z"
    },
    "scrolled": false
   },
   "outputs": [
    {
     "name": "stdout",
     "output_type": "stream",
     "text": [
      "FPS of the video is 24.65\n",
      "<class 'numpy.ndarray'> (480, 640, 3)\n",
      "FPS of the video is 29.79\n",
      "<class 'numpy.ndarray'> (480, 640, 3)\n",
      "FPS of the video is 29.79\n",
      "<class 'numpy.ndarray'> (480, 640, 3)\n",
      "FPS of the video is 30.81\n",
      "<class 'numpy.ndarray'> (480, 640, 3)\n",
      "FPS of the video is 29.77\n",
      "<class 'numpy.ndarray'> (480, 640, 3)\n",
      "FPS of the video is 29.66\n",
      "<class 'numpy.ndarray'> (480, 640, 3)\n",
      "FPS of the video is 30.45\n",
      "<class 'numpy.ndarray'> (480, 640, 3)\n",
      "FPS of the video is 29.78\n",
      "<class 'numpy.ndarray'> (480, 640, 3)\n",
      "FPS of the video is 29.79\n",
      "<class 'numpy.ndarray'> (480, 640, 3)\n",
      "FPS of the video is 30.76\n",
      "<class 'numpy.ndarray'> (480, 640, 3)\n",
      "FPS of the video is 29.77\n",
      "<class 'numpy.ndarray'> (480, 640, 3)\n",
      "FPS of the video is 29.77\n",
      "<class 'numpy.ndarray'> (480, 640, 3)\n",
      "FPS of the video is 30.13\n",
      "<class 'numpy.ndarray'> (480, 640, 3)\n",
      "FPS of the video is 29.90\n",
      "<class 'numpy.ndarray'> (480, 640, 3)\n"
     ]
    }
   ],
   "source": [
    "frames = 0\n",
    "start = time.time()\n",
    "while True:\n",
    "    # Get webcam input\n",
    "    ret_val, img = cam.read()\n",
    "\n",
    "#     # Mirror \n",
    "    img = cv2.flip(img, 1)\n",
    "\n",
    "#     # Free-up unneeded cuda memory\n",
    "#     torch.cuda.empty_cache()\n",
    "\n",
    "    # Show FPS\n",
    "    frames += 1\n",
    "    intv = time.time() - start\n",
    "    if intv > 1:\n",
    "        print(\"FPS of the video is {:5.2f}\".format( frames / intv ))\n",
    "        print(type(img), img.shape)\n",
    "        start = time.time()\n",
    "        frames = 0\n",
    "    \n",
    "    # Show webcam\n",
    "    cv2.imshow('Demo webcam', img)\n",
    "    if cv2.waitKey(1) == 27: \n",
    "        break  # Press Esc key to quit\n",
    "cam.release()\n",
    "cv2.destroyAllWindows()"
   ]
  },
  {
   "cell_type": "code",
   "execution_count": null,
   "metadata": {},
   "outputs": [],
   "source": []
  }
 ],
 "metadata": {
  "kernelspec": {
   "display_name": "Python 3",
   "language": "python",
   "name": "python3"
  },
  "language_info": {
   "codemirror_mode": {
    "name": "ipython",
    "version": 3
   },
   "file_extension": ".py",
   "mimetype": "text/x-python",
   "name": "python",
   "nbconvert_exporter": "python",
   "pygments_lexer": "ipython3",
   "version": "3.7.9"
  },
  "toc": {
   "base_numbering": 1,
   "nav_menu": {},
   "number_sections": true,
   "sideBar": true,
   "skip_h1_title": false,
   "title_cell": "Table of Contents",
   "title_sidebar": "Contents",
   "toc_cell": false,
   "toc_position": {},
   "toc_section_display": true,
   "toc_window_display": false
  },
  "varInspector": {
   "cols": {
    "lenName": 16,
    "lenType": 16,
    "lenVar": 40
   },
   "kernels_config": {
    "python": {
     "delete_cmd_postfix": "",
     "delete_cmd_prefix": "del ",
     "library": "var_list.py",
     "varRefreshCmd": "print(var_dic_list())"
    },
    "r": {
     "delete_cmd_postfix": ") ",
     "delete_cmd_prefix": "rm(",
     "library": "var_list.r",
     "varRefreshCmd": "cat(var_dic_list()) "
    }
   },
   "types_to_exclude": [
    "module",
    "function",
    "builtin_function_or_method",
    "instance",
    "_Feature"
   ],
   "window_display": false
  }
 },
 "nbformat": 4,
 "nbformat_minor": 4
}
